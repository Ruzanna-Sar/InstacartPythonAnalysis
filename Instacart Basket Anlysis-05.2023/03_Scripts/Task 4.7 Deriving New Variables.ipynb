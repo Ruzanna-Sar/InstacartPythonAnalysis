{
 "cells": [
  {
   "cell_type": "markdown",
   "id": "006d0c26",
   "metadata": {},
   "source": [
    "# Task 4.7: Deriving New Variables"
   ]
  },
  {
   "cell_type": "markdown",
   "id": "b790bd0f",
   "metadata": {},
   "source": [
    "## Importing Libraries & pickle file"
   ]
  },
  {
   "cell_type": "code",
   "execution_count": 1,
   "id": "0a12f3dc",
   "metadata": {},
   "outputs": [],
   "source": [
    "import pandas as pd\n",
    "import numpy as np\n",
    "import os"
   ]
  },
  {
   "cell_type": "code",
   "execution_count": 6,
   "id": "65afb30d",
   "metadata": {},
   "outputs": [],
   "source": [
    "path = r'C:\\Users\\RUZANNA\\OneDrive\\Desktop\\Careerfoundry\\Python\\Instacart Basket Anlysis-05.2023\\02_Data'"
   ]
  },
  {
   "cell_type": "code",
   "execution_count": 10,
   "id": "b3aaa3be",
   "metadata": {},
   "outputs": [],
   "source": [
    "ords_prods_merged = pd.read_pickle(os.path.join(path, 'Prepared Data', 'orders_products_merged_4.7.pkl'))"
   ]
  },
  {
   "cell_type": "markdown",
   "id": "1ed1510e",
   "metadata": {},
   "source": [
    "## Step 1\n",
    "### Cheking dimensions of imported dataframe"
   ]
  },
  {
   "cell_type": "code",
   "execution_count": 11,
   "id": "62fd7b9e",
   "metadata": {},
   "outputs": [
    {
     "data": {
      "text/plain": [
       "(32404859, 17)"
      ]
     },
     "execution_count": 11,
     "metadata": {},
     "output_type": "execute_result"
    }
   ],
   "source": [
    "ords_prods_merged.shape"
   ]
  },
  {
   "cell_type": "code",
   "execution_count": 12,
   "id": "825a7b36",
   "metadata": {},
   "outputs": [
    {
     "data": {
      "text/html": [
       "<div>\n",
       "<style scoped>\n",
       "    .dataframe tbody tr th:only-of-type {\n",
       "        vertical-align: middle;\n",
       "    }\n",
       "\n",
       "    .dataframe tbody tr th {\n",
       "        vertical-align: top;\n",
       "    }\n",
       "\n",
       "    .dataframe thead th {\n",
       "        text-align: right;\n",
       "    }\n",
       "</style>\n",
       "<table border=\"1\" class=\"dataframe\">\n",
       "  <thead>\n",
       "    <tr style=\"text-align: right;\">\n",
       "      <th></th>\n",
       "      <th>order_id</th>\n",
       "      <th>user_id</th>\n",
       "      <th>order_number</th>\n",
       "      <th>orders_day_of_week</th>\n",
       "      <th>order_hour_of_day</th>\n",
       "      <th>days_since_prior_order</th>\n",
       "      <th>product_id</th>\n",
       "      <th>add_to_cart_order</th>\n",
       "      <th>reordered</th>\n",
       "      <th>_merge</th>\n",
       "      <th>product_name</th>\n",
       "      <th>aisle_id</th>\n",
       "      <th>department_id</th>\n",
       "      <th>prices</th>\n",
       "      <th>exists</th>\n",
       "      <th>busiest_day</th>\n",
       "      <th>price_range_loc</th>\n",
       "    </tr>\n",
       "  </thead>\n",
       "  <tbody>\n",
       "    <tr>\n",
       "      <th>0</th>\n",
       "      <td>2398795</td>\n",
       "      <td>1.0</td>\n",
       "      <td>2.0</td>\n",
       "      <td>3.0</td>\n",
       "      <td>7.0</td>\n",
       "      <td>15.0</td>\n",
       "      <td>196.0</td>\n",
       "      <td>1.0</td>\n",
       "      <td>1.0</td>\n",
       "      <td>both</td>\n",
       "      <td>Soda</td>\n",
       "      <td>77</td>\n",
       "      <td>7</td>\n",
       "      <td>9.0</td>\n",
       "      <td>both</td>\n",
       "      <td>Regularly busy</td>\n",
       "      <td>Mid range product</td>\n",
       "    </tr>\n",
       "  </tbody>\n",
       "</table>\n",
       "</div>"
      ],
      "text/plain": [
       "   order_id  user_id  order_number  orders_day_of_week  order_hour_of_day  \\\n",
       "0   2398795      1.0           2.0                 3.0                7.0   \n",
       "\n",
       "   days_since_prior_order  product_id  add_to_cart_order  reordered _merge  \\\n",
       "0                    15.0       196.0                1.0        1.0   both   \n",
       "\n",
       "  product_name  aisle_id  department_id  prices exists     busiest_day  \\\n",
       "0         Soda        77              7     9.0   both  Regularly busy   \n",
       "\n",
       "     price_range_loc  \n",
       "0  Mid range product  "
      ]
     },
     "execution_count": 12,
     "metadata": {},
     "output_type": "execute_result"
    }
   ],
   "source": [
    "ords_prods_merged.head(1)"
   ]
  },
  {
   "cell_type": "markdown",
   "id": "0b8546ea",
   "metadata": {},
   "source": [
    "# Step 2"
   ]
  },
  {
   "cell_type": "code",
   "execution_count": 13,
   "id": "22af7933",
   "metadata": {},
   "outputs": [
    {
     "data": {
      "text/plain": [
       "0.0    5779087\n",
       "1.0    5303718\n",
       "6.0    4190948\n",
       "5.0    3952326\n",
       "2.0    3947564\n",
       "3.0    3600589\n",
       "4.0    3554531\n",
       "NaN    2076096\n",
       "Name: orders_day_of_week, dtype: int64"
      ]
     },
     "execution_count": 13,
     "metadata": {},
     "output_type": "execute_result"
    }
   ],
   "source": [
    "ords_prods_merged['orders_day_of_week'].value_counts(dropna= False)"
   ]
  },
  {
   "cell_type": "code",
   "execution_count": 29,
   "id": "46f7b2ca",
   "metadata": {},
   "outputs": [],
   "source": [
    "result = []\n",
    "\n",
    "for value in ords_prods_merged[\"orders_day_of_week\"]:\n",
    "  if value == 0 or value == 1:\n",
    "    result.append(\"Busiest days\")\n",
    "  else:\n",
    "    result.append(\"Non busiest days\")"
   ]
  },
  {
   "cell_type": "code",
   "execution_count": 31,
   "id": "239eb721",
   "metadata": {},
   "outputs": [],
   "source": [
    "ords_prods_merged['Busiest days'] = result"
   ]
  },
  {
   "cell_type": "code",
   "execution_count": 30,
   "id": "2ba5cf42",
   "metadata": {},
   "outputs": [],
   "source": [
    "result_slowest = []\n",
    "\n",
    "for value in ords_prods_merged[\"orders_day_of_week\"]:\n",
    "  if value == 4 or value == 3:\n",
    "    result_slowest.append(\"Slowest days\")\n",
    "  else:\n",
    "    result_slowest.append(\"Non slowest days\")"
   ]
  },
  {
   "cell_type": "code",
   "execution_count": 32,
   "id": "5b7d88cd",
   "metadata": {},
   "outputs": [],
   "source": [
    "ords_prods_merged['Slowest days'] = result_slowest"
   ]
  },
  {
   "cell_type": "markdown",
   "id": "48aa2258",
   "metadata": {},
   "source": [
    "## Step 3\n",
    "### checking the values "
   ]
  },
  {
   "cell_type": "code",
   "execution_count": 33,
   "id": "dda66556",
   "metadata": {},
   "outputs": [
    {
     "data": {
      "text/html": [
       "<div>\n",
       "<style scoped>\n",
       "    .dataframe tbody tr th:only-of-type {\n",
       "        vertical-align: middle;\n",
       "    }\n",
       "\n",
       "    .dataframe tbody tr th {\n",
       "        vertical-align: top;\n",
       "    }\n",
       "\n",
       "    .dataframe thead th {\n",
       "        text-align: right;\n",
       "    }\n",
       "</style>\n",
       "<table border=\"1\" class=\"dataframe\">\n",
       "  <thead>\n",
       "    <tr style=\"text-align: right;\">\n",
       "      <th></th>\n",
       "      <th>order_id</th>\n",
       "      <th>user_id</th>\n",
       "      <th>order_number</th>\n",
       "      <th>orders_day_of_week</th>\n",
       "      <th>order_hour_of_day</th>\n",
       "      <th>days_since_prior_order</th>\n",
       "      <th>product_id</th>\n",
       "      <th>add_to_cart_order</th>\n",
       "      <th>reordered</th>\n",
       "      <th>_merge</th>\n",
       "      <th>product_name</th>\n",
       "      <th>aisle_id</th>\n",
       "      <th>department_id</th>\n",
       "      <th>prices</th>\n",
       "      <th>exists</th>\n",
       "      <th>busiest_day</th>\n",
       "      <th>price_range_loc</th>\n",
       "      <th>Busiest days</th>\n",
       "      <th>Slowest days</th>\n",
       "    </tr>\n",
       "  </thead>\n",
       "  <tbody>\n",
       "    <tr>\n",
       "      <th>0</th>\n",
       "      <td>2398795</td>\n",
       "      <td>1.0</td>\n",
       "      <td>2.0</td>\n",
       "      <td>3.0</td>\n",
       "      <td>7.0</td>\n",
       "      <td>15.0</td>\n",
       "      <td>196.0</td>\n",
       "      <td>1.0</td>\n",
       "      <td>1.0</td>\n",
       "      <td>both</td>\n",
       "      <td>Soda</td>\n",
       "      <td>77</td>\n",
       "      <td>7</td>\n",
       "      <td>9.0</td>\n",
       "      <td>both</td>\n",
       "      <td>Regularly busy</td>\n",
       "      <td>Mid range product</td>\n",
       "      <td>Non busiest days</td>\n",
       "      <td>Slowest days</td>\n",
       "    </tr>\n",
       "    <tr>\n",
       "      <th>1</th>\n",
       "      <td>473747</td>\n",
       "      <td>1.0</td>\n",
       "      <td>3.0</td>\n",
       "      <td>3.0</td>\n",
       "      <td>12.0</td>\n",
       "      <td>21.0</td>\n",
       "      <td>196.0</td>\n",
       "      <td>1.0</td>\n",
       "      <td>1.0</td>\n",
       "      <td>both</td>\n",
       "      <td>Soda</td>\n",
       "      <td>77</td>\n",
       "      <td>7</td>\n",
       "      <td>9.0</td>\n",
       "      <td>both</td>\n",
       "      <td>Regularly busy</td>\n",
       "      <td>Mid range product</td>\n",
       "      <td>Non busiest days</td>\n",
       "      <td>Slowest days</td>\n",
       "    </tr>\n",
       "  </tbody>\n",
       "</table>\n",
       "</div>"
      ],
      "text/plain": [
       "   order_id  user_id  order_number  orders_day_of_week  order_hour_of_day  \\\n",
       "0   2398795      1.0           2.0                 3.0                7.0   \n",
       "1    473747      1.0           3.0                 3.0               12.0   \n",
       "\n",
       "   days_since_prior_order  product_id  add_to_cart_order  reordered _merge  \\\n",
       "0                    15.0       196.0                1.0        1.0   both   \n",
       "1                    21.0       196.0                1.0        1.0   both   \n",
       "\n",
       "  product_name  aisle_id  department_id  prices exists     busiest_day  \\\n",
       "0         Soda        77              7     9.0   both  Regularly busy   \n",
       "1         Soda        77              7     9.0   both  Regularly busy   \n",
       "\n",
       "     price_range_loc      Busiest days  Slowest days  \n",
       "0  Mid range product  Non busiest days  Slowest days  \n",
       "1  Mid range product  Non busiest days  Slowest days  "
      ]
     },
     "execution_count": 33,
     "metadata": {},
     "output_type": "execute_result"
    }
   ],
   "source": [
    "ords_prods_merged.head(2)"
   ]
  },
  {
   "cell_type": "code",
   "execution_count": 34,
   "id": "0279ac1c",
   "metadata": {},
   "outputs": [
    {
     "data": {
      "text/plain": [
       "Non busiest days    21322054\n",
       "Busiest days        11082805\n",
       "Name: Busiest days, dtype: int64"
      ]
     },
     "execution_count": 34,
     "metadata": {},
     "output_type": "execute_result"
    }
   ],
   "source": [
    "ords_prods_merged['Busiest days'].value_counts(dropna= False)"
   ]
  },
  {
   "cell_type": "code",
   "execution_count": 35,
   "id": "32f93f6c",
   "metadata": {},
   "outputs": [
    {
     "data": {
      "text/plain": [
       "Non slowest days    25249739\n",
       "Slowest days         7155120\n",
       "Name: Slowest days, dtype: int64"
      ]
     },
     "execution_count": 35,
     "metadata": {},
     "output_type": "execute_result"
    }
   ],
   "source": [
    "ords_prods_merged['Slowest days'].value_counts(dropna= False)"
   ]
  },
  {
   "cell_type": "markdown",
   "id": "e6b33a65",
   "metadata": {},
   "source": [
    "## Step 4 - Create a new column 'busiest_period_of_day'"
   ]
  },
  {
   "cell_type": "markdown",
   "id": "0e8e8ea8",
   "metadata": {},
   "source": [
    "#### Checking the frequency of 'order_hour_of_day' column\n",
    "ords_prods_merged['order_hour_of_day'].value_counts(dropna= False)"
   ]
  },
  {
   "cell_type": "code",
   "execution_count": 41,
   "id": "3dd2f7f6",
   "metadata": {},
   "outputs": [
    {
     "data": {
      "text/plain": [
       "10.0    2593725\n",
       "11.0    2564597\n",
       "14.0    2517238\n",
       "15.0    2487586\n",
       "13.0    2487500\n",
       "12.0    2445841\n",
       "16.0    2364969\n",
       "9.0     2311334\n",
       "NaN     2076096\n",
       "17.0    1943858\n",
       "8.0     1622394\n",
       "18.0    1520954\n",
       "19.0    1169224\n",
       "20.0     910005\n",
       "7.0      844665\n",
       "21.0     746254\n",
       "22.0     592432\n",
       "23.0     375889\n",
       "6.0      274801\n",
       "0.0      203460\n",
       "1.0      108110\n",
       "5.0       82706\n",
       "2.0       63961\n",
       "4.0       49400\n",
       "3.0       47860\n",
       "Name: order_hour_of_day, dtype: int64"
      ]
     },
     "execution_count": 41,
     "metadata": {},
     "output_type": "execute_result"
    }
   ],
   "source": [
    "ords_prods_merged['order_hour_of_day'].value_counts(dropna= False)"
   ]
  },
  {
   "cell_type": "code",
   "execution_count": 40,
   "id": "ee4d4a82",
   "metadata": {},
   "outputs": [],
   "source": [
    "result_hour = []\n",
    "\n",
    "for value in ords_prods_merged[\"order_hour_of_day\"]:\n",
    "  if value == 10.0 or value == 11.0 or value ==14.0 or value ==15.0 or value ==13.0:\n",
    "    result_hour.append(\"Most orders\")\n",
    "  elif value == 12.0 or value == 16.0 or value ==9.0 or value ==17.0 or value ==8.0 or value ==18.0 or value ==19.0:\n",
    "    result_hour.append(\"Average orders\")\n",
    "  else:\n",
    "    result_hour.append(\"Fewest order\")"
   ]
  },
  {
   "cell_type": "code",
   "execution_count": 38,
   "id": "d79ac86f",
   "metadata": {},
   "outputs": [],
   "source": [
    "ords_prods_merged[\"busiest_period_of_day\"] = result_hour"
   ]
  },
  {
   "cell_type": "code",
   "execution_count": 45,
   "id": "ddb6bdae",
   "metadata": {},
   "outputs": [
    {
     "data": {
      "text/html": [
       "<div>\n",
       "<style scoped>\n",
       "    .dataframe tbody tr th:only-of-type {\n",
       "        vertical-align: middle;\n",
       "    }\n",
       "\n",
       "    .dataframe tbody tr th {\n",
       "        vertical-align: top;\n",
       "    }\n",
       "\n",
       "    .dataframe thead th {\n",
       "        text-align: right;\n",
       "    }\n",
       "</style>\n",
       "<table border=\"1\" class=\"dataframe\">\n",
       "  <thead>\n",
       "    <tr style=\"text-align: right;\">\n",
       "      <th></th>\n",
       "      <th>order_id</th>\n",
       "      <th>user_id</th>\n",
       "      <th>order_number</th>\n",
       "      <th>orders_day_of_week</th>\n",
       "      <th>order_hour_of_day</th>\n",
       "      <th>days_since_prior_order</th>\n",
       "      <th>product_id</th>\n",
       "      <th>add_to_cart_order</th>\n",
       "      <th>reordered</th>\n",
       "      <th>_merge</th>\n",
       "      <th>product_name</th>\n",
       "      <th>aisle_id</th>\n",
       "      <th>department_id</th>\n",
       "      <th>prices</th>\n",
       "      <th>exists</th>\n",
       "      <th>busiest_day</th>\n",
       "      <th>price_range_loc</th>\n",
       "      <th>Busiest days</th>\n",
       "      <th>Slowest days</th>\n",
       "      <th>busiest_period_of_day</th>\n",
       "    </tr>\n",
       "  </thead>\n",
       "  <tbody>\n",
       "    <tr>\n",
       "      <th>0</th>\n",
       "      <td>2398795</td>\n",
       "      <td>1.0</td>\n",
       "      <td>2.0</td>\n",
       "      <td>3.0</td>\n",
       "      <td>7.0</td>\n",
       "      <td>15.0</td>\n",
       "      <td>196.0</td>\n",
       "      <td>1.0</td>\n",
       "      <td>1.0</td>\n",
       "      <td>both</td>\n",
       "      <td>Soda</td>\n",
       "      <td>77</td>\n",
       "      <td>7</td>\n",
       "      <td>9.0</td>\n",
       "      <td>both</td>\n",
       "      <td>Regularly busy</td>\n",
       "      <td>Mid range product</td>\n",
       "      <td>Non busiest days</td>\n",
       "      <td>Slowest days</td>\n",
       "      <td>Fewest order</td>\n",
       "    </tr>\n",
       "    <tr>\n",
       "      <th>1</th>\n",
       "      <td>473747</td>\n",
       "      <td>1.0</td>\n",
       "      <td>3.0</td>\n",
       "      <td>3.0</td>\n",
       "      <td>12.0</td>\n",
       "      <td>21.0</td>\n",
       "      <td>196.0</td>\n",
       "      <td>1.0</td>\n",
       "      <td>1.0</td>\n",
       "      <td>both</td>\n",
       "      <td>Soda</td>\n",
       "      <td>77</td>\n",
       "      <td>7</td>\n",
       "      <td>9.0</td>\n",
       "      <td>both</td>\n",
       "      <td>Regularly busy</td>\n",
       "      <td>Mid range product</td>\n",
       "      <td>Non busiest days</td>\n",
       "      <td>Slowest days</td>\n",
       "      <td>Average orders</td>\n",
       "    </tr>\n",
       "  </tbody>\n",
       "</table>\n",
       "</div>"
      ],
      "text/plain": [
       "   order_id  user_id  order_number  orders_day_of_week  order_hour_of_day  \\\n",
       "0   2398795      1.0           2.0                 3.0                7.0   \n",
       "1    473747      1.0           3.0                 3.0               12.0   \n",
       "\n",
       "   days_since_prior_order  product_id  add_to_cart_order  reordered _merge  \\\n",
       "0                    15.0       196.0                1.0        1.0   both   \n",
       "1                    21.0       196.0                1.0        1.0   both   \n",
       "\n",
       "  product_name  aisle_id  department_id  prices exists     busiest_day  \\\n",
       "0         Soda        77              7     9.0   both  Regularly busy   \n",
       "1         Soda        77              7     9.0   both  Regularly busy   \n",
       "\n",
       "     price_range_loc      Busiest days  Slowest days busiest_period_of_day  \n",
       "0  Mid range product  Non busiest days  Slowest days          Fewest order  \n",
       "1  Mid range product  Non busiest days  Slowest days        Average orders  "
      ]
     },
     "execution_count": 45,
     "metadata": {},
     "output_type": "execute_result"
    }
   ],
   "source": [
    "ords_prods_merged.head(2)"
   ]
  },
  {
   "cell_type": "markdown",
   "id": "8c12b0e6",
   "metadata": {},
   "source": [
    "## Step 5- Print the frequency of 'busiest_period_of_day' column"
   ]
  },
  {
   "cell_type": "code",
   "execution_count": 43,
   "id": "b8b0cac3",
   "metadata": {},
   "outputs": [
    {
     "data": {
      "text/plain": [
       "Average orders    13378574\n",
       "Most orders       12650646\n",
       "Fewest order       6375639\n",
       "Name: busiest_period_of_day, dtype: int64"
      ]
     },
     "execution_count": 43,
     "metadata": {},
     "output_type": "execute_result"
    }
   ],
   "source": [
    "ords_prods_merged['busiest_period_of_day'].value_counts(dropna= False)"
   ]
  },
  {
   "cell_type": "markdown",
   "id": "6c74d51f",
   "metadata": {},
   "source": [
    "## Step 7- Exporting dataframe as a pickle file"
   ]
  },
  {
   "cell_type": "code",
   "execution_count": 46,
   "id": "bb06a3fd",
   "metadata": {},
   "outputs": [],
   "source": [
    "ords_prods_merged.to_pickle(os.path.join(path, 'Prepared Data', 'orders_products_merged_4.7.pkl'))"
   ]
  },
  {
   "cell_type": "code",
   "execution_count": 47,
   "id": "3c5100e1",
   "metadata": {},
   "outputs": [
    {
     "data": {
      "text/plain": [
       "(32404859, 20)"
      ]
     },
     "execution_count": 47,
     "metadata": {},
     "output_type": "execute_result"
    }
   ],
   "source": [
    "# checking the dimension of an updated dataframe\n",
    "ords_prods_merged.shape"
   ]
  },
  {
   "cell_type": "code",
   "execution_count": null,
   "id": "9c40c555",
   "metadata": {},
   "outputs": [],
   "source": []
  }
 ],
 "metadata": {
  "kernelspec": {
   "display_name": "Python 3 (ipykernel)",
   "language": "python",
   "name": "python3"
  },
  "language_info": {
   "codemirror_mode": {
    "name": "ipython",
    "version": 3
   },
   "file_extension": ".py",
   "mimetype": "text/x-python",
   "name": "python",
   "nbconvert_exporter": "python",
   "pygments_lexer": "ipython3",
   "version": "3.10.9"
  }
 },
 "nbformat": 4,
 "nbformat_minor": 5
}
