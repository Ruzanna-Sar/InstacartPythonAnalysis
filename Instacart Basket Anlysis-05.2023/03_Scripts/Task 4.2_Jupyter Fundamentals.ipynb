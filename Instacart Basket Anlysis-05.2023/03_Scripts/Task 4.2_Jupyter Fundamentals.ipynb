{
 "cells": [
  {
   "cell_type": "markdown",
   "id": "de5d514c",
   "metadata": {},
   "source": [
    "# Task 4.2- Jupyter Fundamentals & Python Data Types "
   ]
  },
  {
   "cell_type": "markdown",
   "id": "0de53a6e",
   "metadata": {},
   "source": [
    "#  Importing Libraries"
   ]
  },
  {
   "cell_type": "code",
   "execution_count": 2,
   "id": "efd11ea9",
   "metadata": {},
   "outputs": [],
   "source": [
    "import pandas as pd\n",
    "import numpy as np\n",
    "import os                 # Questions 1-6"
   ]
  },
  {
   "cell_type": "markdown",
   "id": "dbf2ff09",
   "metadata": {},
   "source": [
    "## Python data types"
   ]
  },
  {
   "cell_type": "code",
   "execution_count": 12,
   "id": "311e150c",
   "metadata": {},
   "outputs": [],
   "source": [
    "x= 10\n",
    "y=50\n",
    "c=1000       # Question 7"
   ]
  },
  {
   "cell_type": "code",
   "execution_count": 13,
   "id": "f170e25b",
   "metadata": {},
   "outputs": [
    {
     "data": {
      "text/plain": [
       "100.0"
      ]
     },
     "execution_count": 13,
     "metadata": {},
     "output_type": "execute_result"
    }
   ],
   "source": [
    "c/x"
   ]
  },
  {
   "cell_type": "code",
   "execution_count": 14,
   "id": "e67be03e",
   "metadata": {},
   "outputs": [
    {
     "data": {
      "text/plain": [
       "100"
      ]
     },
     "execution_count": 14,
     "metadata": {},
     "output_type": "execute_result"
    }
   ],
   "source": [
    "y*2  "
   ]
  },
  {
   "cell_type": "code",
   "execution_count": 15,
   "id": "bcefa093",
   "metadata": {},
   "outputs": [
    {
     "data": {
      "text/plain": [
       "100"
      ]
     },
     "execution_count": 15,
     "metadata": {},
     "output_type": "execute_result"
    }
   ],
   "source": [
    "c-y*18"
   ]
  },
  {
   "cell_type": "code",
   "execution_count": 11,
   "id": "f4d15c45",
   "metadata": {},
   "outputs": [],
   "source": [
    "a=3.4\n",
    "b=7.7    # Question 8"
   ]
  },
  {
   "cell_type": "code",
   "execution_count": 16,
   "id": "425e2ada",
   "metadata": {},
   "outputs": [
    {
     "data": {
      "text/plain": [
       "2.264705882352941"
      ]
     },
     "execution_count": 16,
     "metadata": {},
     "output_type": "execute_result"
    }
   ],
   "source": [
    "b/a"
   ]
  },
  {
   "cell_type": "code",
   "execution_count": 18,
   "id": "7df58f62",
   "metadata": {},
   "outputs": [
    {
     "data": {
      "text/plain": [
       "'Sunday'"
      ]
     },
     "execution_count": 18,
     "metadata": {},
     "output_type": "execute_result"
    }
   ],
   "source": [
    "d= 'Sun'\n",
    "e = 'day'\n",
    "d+e         # Question 9"
   ]
  },
  {
   "cell_type": "code",
   "execution_count": 19,
   "id": "d4a65b2c",
   "metadata": {},
   "outputs": [
    {
     "data": {
      "text/plain": [
       "'Hello, World! May Peace prevail on Earth.'"
      ]
     },
     "execution_count": 19,
     "metadata": {},
     "output_type": "execute_result"
    }
   ],
   "source": [
    "f= 'Hello, World! '\n",
    "g= 'May Peace prevail on Earth.'\n",
    "f+g            # Question 10"
   ]
  },
  {
   "cell_type": "code",
   "execution_count": 20,
   "id": "d0e98049",
   "metadata": {},
   "outputs": [
    {
     "data": {
      "text/plain": [
       "'Thank you!Thank you!Thank you!Thank you!Thank you!Thank you!Thank you!Thank you!Thank you!Thank you!Thank you!Thank you!Thank you!Thank you!Thank you!Thank you!Thank you!Thank you!Thank you!Thank you!Thank you!Thank you!Thank you!Thank you!Thank you!Thank you!Thank you!Thank you!Thank you!Thank you!Thank you!Thank you!Thank you!Thank you!Thank you!Thank you!Thank you!Thank you!Thank you!Thank you!Thank you!Thank you!Thank you!Thank you!Thank you!Thank you!Thank you!Thank you!Thank you!Thank you!Thank you!Thank you!Thank you!Thank you!Thank you!Thank you!Thank you!Thank you!Thank you!Thank you!Thank you!Thank you!Thank you!Thank you!Thank you!Thank you!Thank you!Thank you!Thank you!Thank you!Thank you!Thank you!Thank you!Thank you!Thank you!Thank you!Thank you!Thank you!Thank you!Thank you!Thank you!Thank you!Thank you!Thank you!Thank you!Thank you!Thank you!Thank you!Thank you!Thank you!Thank you!Thank you!Thank you!Thank you!Thank you!Thank you!Thank you!Thank you!Thank you!Thank you!'"
      ]
     },
     "execution_count": 20,
     "metadata": {},
     "output_type": "execute_result"
    }
   ],
   "source": [
    " h= 'Thank you!'\n",
    "h*100"
   ]
  },
  {
   "cell_type": "code",
   "execution_count": null,
   "id": "c3e38bbc",
   "metadata": {},
   "outputs": [],
   "source": []
  }
 ],
 "metadata": {
  "kernelspec": {
   "display_name": "Python 3 (ipykernel)",
   "language": "python",
   "name": "python3"
  },
  "language_info": {
   "codemirror_mode": {
    "name": "ipython",
    "version": 3
   },
   "file_extension": ".py",
   "mimetype": "text/x-python",
   "name": "python",
   "nbconvert_exporter": "python",
   "pygments_lexer": "ipython3",
   "version": "3.10.9"
  }
 },
 "nbformat": 4,
 "nbformat_minor": 5
}
